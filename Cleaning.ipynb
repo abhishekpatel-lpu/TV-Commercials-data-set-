{
 "cells": [
  {
   "cell_type": "code",
   "execution_count": 2,
   "metadata": {},
   "outputs": [
    {
     "name": "stdout",
     "output_type": "stream",
     "text": [
      "Number of data points in this dataset:  17720\n",
      "dict_keys(['Label', '1', '2', '3', '4', '5', '6', '7', '8', '9', '10', '11', '12', '13', '14', '15', '16', '17', '18', '19', '20', '21', '22', '23', '24', '25', '26', '27', '28', '29', '30', '31', '32', '33', '34', '35', '36', '37', '38', '39', '40', '41', '42', '43', '44', '45', '46', '47', '48', '49', '50', '51', '52', '53', '54', '55', '56', '57', '58', '59', '60', '61', '62', '63', '64', '65', '66', '67', '68', '69', '70', '71', '72', '73', '74', '75', '76', '77', '78', '79', '80', '81', '82', '83', '84', '85', '86', '87', '90', '91', '92', '93', '94', '95', '96', '97', '98', '99', '100', '101', '102', '103', '104', '105', '106', '107', '108', '109', '110', '111', '112', '113', '114', '115', '116', '117', '118', '119', '123', '125', '127', '129', '134', '141', '142', '143', '144', '145', '149', '152', '156', '162', '166', '168', '171', '176', '178', '182', '185', '186', '187', '188', '192', '194', '195', '197', '206', '208', '209', '212', '215', '219', '220', '221', '223', '229', '236', '240', '262', '271', '276', '296', '300', '319', '347', '366', '406', '407', '409', '426', '441', '448', '462', '478', '482', '491', '505', '559', '572', '573', '580', '601', '621', '623', '627', '651', '709', '726', '762', '767', '792', '816', '840', '852', '871', '877', '882', '924', '959', '1002', '1016', '1048', '1112', '4124', '4125'])\n",
      "Number of rows:  17720\n",
      "to CSV FILE\n"
     ]
    },
    {
     "name": "stderr",
     "output_type": "stream",
     "text": [
      "C:\\Users\\Abhishek Patel\\Anaconda3\\lib\\site-packages\\IPython\\core\\interactiveshell.py:2785: DtypeWarning: Columns (204) have mixed types. Specify dtype option on import or set low_memory=False.\n",
      "  interactivity=interactivity, compiler=compiler, result=result)\n"
     ]
    },
    {
     "name": "stdout",
     "output_type": "stream",
     "text": [
      "import done\n",
      "(17721, 21)\n"
     ]
    }
   ],
   "source": [
    "import pandas as pd\n",
    "import re\n",
    "\n",
    "df= pd.read_table(\"BBC.txt\", header=None)\n",
    "df.head()\n",
    "print(\"Number of data points in this dataset: \", len(df))\n",
    "\n",
    "\n",
    "\n",
    "#==================================================================================================================================\n",
    "s = df[0].str.split(' ')\n",
    "for x in s:\n",
    "    x[0] = re.sub('^', 'Label:', x[0])\n",
    "s[0]\n",
    "m = [list(w for w in x if w)for x in s]\n",
    "m[0]\n",
    "d = [dict(w.split(':') for w in x) for x in m]\n",
    "d[0]\n",
    "cols = sorted(d, key=len, reverse=True)[0].keys()\n",
    "print(cols)\n",
    "df = pd.DataFrame.from_records(d, index=df.index, columns=cols)\n",
    "df.head()\n",
    "print(\"Number of rows: \", len(df))\n",
    "df_cols = list(df.columns)\n",
    "df_cols.remove('Label')\n",
    "df_cols = list(map(int, df_cols))\n",
    "df_cols.sort()\n",
    "df_cols = list(map(str, df_cols))\n",
    "df_cols.append('Label')\n",
    "df = df[df_cols]\n",
    "df = df.fillna('NA')\n",
    "df.head()\n",
    "\n",
    "#=====================================================================================\n",
    "\n",
    "df.to_csv(\"BBC.csv\", index=False)\n",
    "print(\"to CSV FILE\")\n",
    "import pandas as pd\n",
    "names=['Shot Length','MDM','MDV','STEM','STEV','ZCRM','ZCRV','SCM','SCV','SRM','SRV','SFM','SFV','FFM','FFV','MD','FDD','TED','BAW','ECRM','ECRV']\n",
    "df=pd.read_csv('BBC.csv',names=names)\n",
    "print(\"import done\")\n",
    "print(df.shape)"
   ]
  },
  {
   "cell_type": "code",
   "execution_count": 4,
   "metadata": {},
   "outputs": [
    {
     "name": "stdout",
     "output_type": "stream",
     "text": [
      "Number of data points in this dataset:  22545\n",
      "dict_keys(['Label', '1', '2', '3', '4', '5', '6', '7', '8', '9', '10', '11', '12', '13', '14', '15', '16', '17', '18', '19', '20', '21', '22', '23', '24', '25', '26', '27', '28', '29', '30', '31', '32', '33', '34', '35', '36', '37', '38', '39', '40', '41', '42', '43', '44', '45', '46', '47', '48', '49', '50', '51', '52', '53', '54', '55', '56', '57', '58', '59', '60', '61', '62', '63', '64', '65', '66', '67', '68', '69', '70', '71', '72', '73', '74', '75', '76', '77', '78', '79', '80', '81', '82', '83', '84', '85', '86', '87', '90', '91', '92', '93', '94', '95', '96', '97', '98', '99', '100', '101', '102', '103', '104', '105', '106', '107', '108', '109', '110', '111', '112', '113', '114', '115', '116', '117', '118', '119', '123', '125', '127', '129', '134', '142', '143', '145', '149', '152', '156', '162', '166', '168', '176', '185', '186', '187', '188', '192', '194', '195', '197', '208', '209', '215', '219', '220', '221', '230', '231', '236', '240', '262', '269', '271', '276', '296', '300', '317', '319', '347', '366', '406', '407', '409', '426', '448', '462', '463', '482', '491', '505', '519', '559', '572', '573', '580', '601', '621', '623', '627', '651', '709', '726', '762', '767', '792', '816', '840', '852', '871', '877', '882', '924', '959', '1002', '1016', '1028', '1048', '1112', '4124', '4125'])\n",
      "Number of rows:  22545\n",
      "to CSV FILE\n"
     ]
    },
    {
     "name": "stderr",
     "output_type": "stream",
     "text": [
      "C:\\Users\\Abhishek Patel\\Anaconda3\\lib\\site-packages\\IPython\\core\\interactiveshell.py:2785: DtypeWarning: Columns (200) have mixed types. Specify dtype option on import or set low_memory=False.\n",
      "  interactivity=interactivity, compiler=compiler, result=result)\n"
     ]
    },
    {
     "name": "stdout",
     "output_type": "stream",
     "text": [
      "import done\n",
      "(22546, 21)\n"
     ]
    }
   ],
   "source": [
    "import pandas as pd\n",
    "import re\n",
    "\n",
    "df= pd.read_table('CNN.txt', header=None)\n",
    "df.head()\n",
    "print(\"Number of data points in this dataset: \", len(df))\n",
    "\n",
    "\n",
    "\n",
    "#==================================================================================================================================\n",
    "s = df[0].str.split(' ')\n",
    "for x in s:\n",
    "    x[0] = re.sub('^', 'Label:', x[0])\n",
    "s[0]\n",
    "m = [list(w for w in x if w)for x in s]\n",
    "m[0]\n",
    "d = [dict(w.split(':') for w in x) for x in m]\n",
    "d[0]\n",
    "cols = sorted(d, key=len, reverse=True)[0].keys()\n",
    "print(cols)\n",
    "df = pd.DataFrame.from_records(d, index=df.index, columns=cols)\n",
    "df.head()\n",
    "print(\"Number of rows: \", len(df))\n",
    "df_cols = list(df.columns)\n",
    "df_cols.remove('Label')\n",
    "df_cols = list(map(int, df_cols))\n",
    "df_cols.sort()\n",
    "df_cols = list(map(str, df_cols))\n",
    "df_cols.append('Label')\n",
    "df = df[df_cols]\n",
    "df = df.fillna('NA')\n",
    "df.head()\n",
    "\n",
    "#=====================================================================================\n",
    "\n",
    "df.to_csv(\"CNN.csv\", index=False)\n",
    "print(\"to CSV FILE\")\n",
    "import pandas as pd\n",
    "names=['Shot Length','MDM','MDV','STEM','STEV','ZCRM','ZCRV','SCM','SCV','SRM','SRV','SFM','SFV','FFM','FFV','MD','FDD','TED','BAW','ECRM','ECRV']\n",
    "df=pd.read_csv('CNN.csv',names=names)\n",
    "print(\"import done\")\n",
    "print(df.shape)\n"
   ]
  },
  {
   "cell_type": "code",
   "execution_count": 5,
   "metadata": {},
   "outputs": [
    {
     "name": "stdout",
     "output_type": "stream",
     "text": [
      "Number of data points in this dataset:  33117\n",
      "dict_keys(['Label', '1', '2', '3', '4', '5', '6', '7', '8', '9', '10', '11', '12', '13', '14', '15', '16', '17', '18', '19', '20', '21', '22', '23', '24', '25', '26', '27', '28', '29', '30', '31', '32', '33', '34', '35', '36', '37', '38', '39', '40', '41', '42', '43', '44', '45', '46', '47', '48', '49', '50', '51', '52', '53', '54', '55', '56', '57', '58', '59', '60', '61', '62', '63', '64', '65', '66', '67', '68', '69', '70', '71', '72', '73', '74', '75', '76', '77', '78', '79', '80', '81', '82', '83', '84', '85', '86', '87', '90', '91', '92', '93', '94', '95', '96', '97', '98', '99', '100', '101', '102', '103', '104', '105', '106', '107', '108', '109', '110', '111', '112', '113', '114', '115', '116', '117', '118', '119', '123', '125', '127', '129', '134', '137', '142', '143', '144', '145', '149', '152', '156', '162', '166', '168', '171', '176', '178', '182', '185', '186', '187', '188', '192', '194', '195', '197', '206', '208', '219', '221', '236', '240', '262', '269', '271', '276', '296', '300', '317', '319', '347', '366', '406', '407', '409', '426', '441', '448', '462', '463', '478', '482', '491', '505', '519', '559', '572', '573', '580', '601', '621', '623', '627', '651', '689', '709', '726', '762', '767', '792', '816', '840', '852', '871', '877', '882', '924', '959', '1002', '1016', '1028', '1048', '1112', '4124', '4125'])\n",
      "Number of rows:  33117\n",
      "to CSV FILE\n"
     ]
    },
    {
     "name": "stderr",
     "output_type": "stream",
     "text": [
      "C:\\Users\\Abhishek Patel\\Anaconda3\\lib\\site-packages\\IPython\\core\\interactiveshell.py:2785: DtypeWarning: Columns (204) have mixed types. Specify dtype option on import or set low_memory=False.\n",
      "  interactivity=interactivity, compiler=compiler, result=result)\n"
     ]
    },
    {
     "name": "stdout",
     "output_type": "stream",
     "text": [
      "import done\n",
      "(33118, 21)\n"
     ]
    }
   ],
   "source": [
    "import pandas as pd\n",
    "import re\n",
    "\n",
    "df= pd.read_table('CNNIBN.txt', header=None)\n",
    "df.head()\n",
    "print(\"Number of data points in this dataset: \", len(df))\n",
    "\n",
    "\n",
    "\n",
    "#==================================================================================================================================\n",
    "s = df[0].str.split(' ')\n",
    "for x in s:\n",
    "    x[0] = re.sub('^', 'Label:', x[0])\n",
    "s[0]\n",
    "m = [list(w for w in x if w)for x in s]\n",
    "m[0]\n",
    "d = [dict(w.split(':') for w in x) for x in m]\n",
    "d[0]\n",
    "cols = sorted(d, key=len, reverse=True)[0].keys()\n",
    "print(cols)\n",
    "df = pd.DataFrame.from_records(d, index=df.index, columns=cols)\n",
    "df.head()\n",
    "print(\"Number of rows: \", len(df))\n",
    "df_cols = list(df.columns)\n",
    "df_cols.remove('Label')\n",
    "df_cols = list(map(int, df_cols))\n",
    "df_cols.sort()\n",
    "df_cols = list(map(str, df_cols))\n",
    "df_cols.append('Label')\n",
    "df = df[df_cols]\n",
    "df = df.fillna('NA')\n",
    "df.head()\n",
    "\n",
    "#=====================================================================================\n",
    "\n",
    "df.to_csv(\"CNNIBN.csv\", index=False)\n",
    "print(\"to CSV FILE\")\n",
    "import pandas as pd\n",
    "names=['Shot Length','MDM','MDV','STEM','STEV','ZCRM','ZCRV','SCM','SCV','SRM','SRV','SFM','SFV','FFM','FFV','MD','FDD','TED','BAW','ECRM','ECRV']\n",
    "df=pd.read_csv('CNNIBN.csv',names=names)\n",
    "print(\"import done\")\n",
    "print(df.shape)"
   ]
  },
  {
   "cell_type": "code",
   "execution_count": 6,
   "metadata": {},
   "outputs": [
    {
     "name": "stdout",
     "output_type": "stream",
     "text": [
      "Number of data points in this dataset:  17051\n",
      "dict_keys(['Label', '1', '2', '3', '4', '5', '6', '7', '8', '9', '10', '11', '12', '13', '14', '15', '16', '17', '18', '19', '20', '21', '22', '23', '24', '25', '26', '27', '28', '29', '30', '31', '32', '33', '34', '35', '36', '37', '38', '39', '40', '41', '42', '43', '44', '45', '46', '47', '48', '49', '50', '51', '52', '53', '54', '55', '56', '57', '58', '59', '60', '61', '62', '63', '64', '65', '66', '67', '68', '69', '70', '71', '72', '73', '74', '75', '76', '77', '78', '79', '80', '81', '82', '83', '84', '85', '86', '87', '90', '91', '92', '93', '94', '95', '96', '97', '98', '99', '100', '101', '102', '103', '104', '105', '106', '107', '108', '109', '110', '111', '112', '113', '114', '115', '116', '117', '118', '119', '123', '125', '127', '129', '134', '141', '142', '143', '144', '145', '149', '152', '156', '162', '166', '168', '171', '176', '178', '182', '185', '186', '187', '188', '192', '194', '195', '197', '206', '208', '209', '212', '215', '219', '220', '221', '223', '229', '236', '240', '262', '271', '276', '296', '300', '319', '347', '366', '406', '407', '409', '426', '441', '448', '462', '478', '482', '491', '505', '559', '572', '573', '580', '601', '621', '623', '627', '651', '709', '726', '762', '767', '792', '816', '840', '852', '871', '877', '882', '924', '959', '1002', '1016', '1048', '1112', '4124', '4125'])\n",
      "Number of rows:  17051\n",
      "to CSV FILE\n"
     ]
    },
    {
     "name": "stderr",
     "output_type": "stream",
     "text": [
      "C:\\Users\\Abhishek Patel\\Anaconda3\\lib\\site-packages\\IPython\\core\\interactiveshell.py:2785: DtypeWarning: Columns (204) have mixed types. Specify dtype option on import or set low_memory=False.\n",
      "  interactivity=interactivity, compiler=compiler, result=result)\n"
     ]
    },
    {
     "name": "stdout",
     "output_type": "stream",
     "text": [
      "import done\n",
      "(17052, 21)\n"
     ]
    }
   ],
   "source": [
    "import pandas as pd\n",
    "import re\n",
    "\n",
    "df= pd.read_table('NDTV.txt', header=None)\n",
    "df.head()\n",
    "print(\"Number of data points in this dataset: \", len(df))\n",
    "\n",
    "\n",
    "\n",
    "#==================================================================================================================================\n",
    "s = df[0].str.split(' ')\n",
    "for x in s:\n",
    "    x[0] = re.sub('^', 'Label:', x[0])\n",
    "s[0]\n",
    "m = [list(w for w in x if w)for x in s]\n",
    "m[0]\n",
    "d = [dict(w.split(':') for w in x) for x in m]\n",
    "d[0]\n",
    "cols = sorted(d, key=len, reverse=True)[0].keys()\n",
    "print(cols)\n",
    "df = pd.DataFrame.from_records(d, index=df.index, columns=cols)\n",
    "df.head()\n",
    "print(\"Number of rows: \", len(df))\n",
    "df_cols = list(df.columns)\n",
    "df_cols.remove('Label')\n",
    "df_cols = list(map(int, df_cols))\n",
    "df_cols.sort()\n",
    "df_cols = list(map(str, df_cols))\n",
    "df_cols.append('Label')\n",
    "df = df[df_cols]\n",
    "df = df.fillna('NA')\n",
    "df.head()\n",
    "\n",
    "#=====================================================================================\n",
    "\n",
    "df.to_csv(\"NDTV.csv\", index=False)\n",
    "print(\"to CSV FILE\")\n",
    "import pandas as pd\n",
    "names=['Shot Length','MDM','MDV','STEM','STEV','ZCRM','ZCRV','SCM','SCV','SRM','SRV','SFM','SFV','FFM','FFV','MD','FDD','TED','BAW','ECRM','ECRV']\n",
    "df=pd.read_csv('NDTV.csv',names=names)\n",
    "print(\"import done\")\n",
    "print(df.shape)"
   ]
  },
  {
   "cell_type": "code",
   "execution_count": 7,
   "metadata": {},
   "outputs": [
    {
     "name": "stdout",
     "output_type": "stream",
     "text": [
      "Number of data points in this dataset:  39252\n",
      "dict_keys(['Label', '1', '2', '3', '4', '5', '6', '7', '8', '9', '10', '11', '12', '13', '14', '15', '16', '17', '18', '19', '20', '21', '22', '23', '24', '25', '26', '27', '28', '29', '30', '31', '32', '33', '34', '35', '36', '37', '38', '39', '40', '41', '42', '43', '44', '45', '46', '47', '48', '49', '50', '51', '52', '53', '54', '55', '56', '57', '58', '59', '60', '61', '62', '63', '64', '65', '66', '67', '68', '69', '70', '71', '72', '73', '74', '75', '76', '77', '78', '79', '80', '81', '82', '83', '84', '85', '86', '90', '91', '92', '93', '94', '95', '96', '97', '98', '99', '100', '101', '102', '103', '104', '105', '106', '107', '108', '109', '110', '111', '112', '113', '114', '115', '116', '117', '118', '119', '123', '125', '127', '128', '129', '134', '142', '143', '144', '145', '149', '152', '156', '162', '166', '168', '171', '176', '182', '185', '186', '187', '188', '192', '194', '195', '197', '206', '208', '209', '212', '215', '219', '220', '221', '223', '229', '230', '231', '236', '262', '269', '271', '276', '296', '300', '317', '319', '347', '366', '406', '407', '409', '426', '448', '462', '463', '478', '482', '491', '505', '519', '559', '572', '573', '601', '621', '623', '627', '651', '709', '726', '767', '792', '816', '840', '852', '871', '877', '882', '924', '959', '1002', '1016', '1048', '4124', '4125'])\n",
      "Number of rows:  39252\n",
      "to CSV FILE\n"
     ]
    },
    {
     "name": "stderr",
     "output_type": "stream",
     "text": [
      "C:\\Users\\Abhishek Patel\\Anaconda3\\lib\\site-packages\\IPython\\core\\interactiveshell.py:2785: DtypeWarning: Columns (203) have mixed types. Specify dtype option on import or set low_memory=False.\n",
      "  interactivity=interactivity, compiler=compiler, result=result)\n"
     ]
    },
    {
     "name": "stdout",
     "output_type": "stream",
     "text": [
      "import done\n",
      "(39253, 21)\n"
     ]
    }
   ],
   "source": [
    "import pandas as pd\n",
    "import re\n",
    "\n",
    "df= pd.read_table('TIMESNOW.txt', header=None)\n",
    "df.head()\n",
    "print(\"Number of data points in this dataset: \", len(df))\n",
    "\n",
    "\n",
    "\n",
    "#==================================================================================================================================\n",
    "s = df[0].str.split(' ')\n",
    "for x in s:\n",
    "    x[0] = re.sub('^', 'Label:', x[0])\n",
    "s[0]\n",
    "m = [list(w for w in x if w)for x in s]\n",
    "m[0]\n",
    "d = [dict(w.split(':') for w in x) for x in m]\n",
    "d[0]\n",
    "cols = sorted(d, key=len, reverse=True)[0].keys()\n",
    "print(cols)\n",
    "df = pd.DataFrame.from_records(d, index=df.index, columns=cols)\n",
    "df.head()\n",
    "print(\"Number of rows: \", len(df))\n",
    "df_cols = list(df.columns)\n",
    "df_cols.remove('Label')\n",
    "df_cols = list(map(int, df_cols))\n",
    "df_cols.sort()\n",
    "df_cols = list(map(str, df_cols))\n",
    "df_cols.append('Label')\n",
    "df = df[df_cols]\n",
    "df = df.fillna('NA')\n",
    "df.head()\n",
    "\n",
    "#=====================================================================================\n",
    "\n",
    "df.to_csv(\"TIMESNOW.csv\", index=False)\n",
    "print(\"to CSV FILE\")\n",
    "import pandas as pd\n",
    "names=['Shot Length','MDM','MDV','STEM','STEV','ZCRM','ZCRV','SCM','SCV','SRM','SRV','SFM','SFV','FFM','FFV','MD','FDD','TED','BAW','ECRM','ECRV']\n",
    "df=pd.read_csv('TIMESNOW.csv',names=names)\n",
    "print(\"import done\")\n",
    "print(df.shape)"
   ]
  },
  {
   "cell_type": "code",
   "execution_count": null,
   "metadata": {},
   "outputs": [],
   "source": []
  }
 ],
 "metadata": {
  "kernelspec": {
   "display_name": "Python 3",
   "language": "python",
   "name": "python3"
  },
  "language_info": {
   "codemirror_mode": {
    "name": "ipython",
    "version": 3
   },
   "file_extension": ".py",
   "mimetype": "text/x-python",
   "name": "python",
   "nbconvert_exporter": "python",
   "pygments_lexer": "ipython3",
   "version": "3.7.4"
  }
 },
 "nbformat": 4,
 "nbformat_minor": 2
}
