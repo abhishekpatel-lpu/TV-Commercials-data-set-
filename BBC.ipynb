{
 "cells": [
  {
   "cell_type": "code",
   "execution_count": null,
   "metadata": {},
   "outputs": [],
   "source": [
    "import numpy as np \n",
    "import pandas as pd \n",
    "from pandas import DataFrame,Series\n",
    "import matplotlib.pyplot as plt \n",
    "\n",
    "\n",
    "ndtv=pd.read_csv(\"BBC.csv\")\n",
    "print(\"the head of the data is :\",ndtv.head())\n",
    "print(\"the shape of the data is : \",ndtv.shape)"
   ]
  },
  {
   "cell_type": "code",
   "execution_count": null,
   "metadata": {},
   "outputs": [],
   "source": [
    "\n",
    "\n",
    "null_columns=ndtv.columns[ndtv.isnull().any()]\n",
    "print(ndtv[null_columns].isnull().sum())\n",
    "\n",
    "null_columns_percentage=pd.DataFrame({'0': null_columns,'1':ndtv[null_columns].isnull().sum()/len(ndtv[null_columns])*100})\n",
    "print(\"the percentage of the null data in each colum are: \",null_columns_percentage)"
   ]
  },
  {
   "cell_type": "code",
   "execution_count": null,
   "metadata": {},
   "outputs": [],
   "source": [
    "print(ndtv.shape)"
   ]
  },
  {
   "cell_type": "code",
   "execution_count": null,
   "metadata": {},
   "outputs": [],
   "source": [
    "#dropping the row which have more than 10 Columns \n",
    "\n",
    "\n",
    "ndtv.dropna(thresh=64,inplace=True, axis=0)\n",
    "print(\"Shape after dropping rows are: \",ndtv.shape)\n"
   ]
  },
  {
   "cell_type": "code",
   "execution_count": null,
   "metadata": {},
   "outputs": [],
   "source": [
    "print(ndtv.shape)"
   ]
  },
  {
   "cell_type": "code",
   "execution_count": null,
   "metadata": {},
   "outputs": [],
   "source": [
    "#here X=+1/-1 any y=short length,audio words\n",
    "y=ndtv['Label']\n",
    "x=ndtv.iloc[:,1:73]\n",
    "print(\"any null value in X\",np.any(np.isnan(x)))\n",
    "print(\"All value in x without null\",np.all(np.isfinite(x)))"
   ]
  },
  {
   "cell_type": "code",
   "execution_count": null,
   "metadata": {},
   "outputs": [],
   "source": [
    "#filling Null value with columns mean value\n",
    "x=x.fillna(x.mean())\n",
    "print(\"any null value in X\",np.any(np.isnan(x)))\n",
    "print(\"All value in x without null\",np.all(np.isfinite(x)))"
   ]
  },
  {
   "cell_type": "code",
   "execution_count": null,
   "metadata": {},
   "outputs": [],
   "source": [
    "#data splitting into tranning and test data sets\n",
    "\n",
    "#from sklearn.cross_validation import train_test_split\n",
    "from sklearn.model_selection import train_test_split\n",
    "x_train,x_test,y_train,y_test=train_test_split(x,y,test_size=0.3,random_state=0)"
   ]
  },
  {
   "cell_type": "code",
   "execution_count": null,
   "metadata": {},
   "outputs": [],
   "source": [
    "from sklearn.ensemble import RandomForestClassifier\n",
    "forest=RandomForestClassifier(criterion='entropy',n_estimators=30,random_state=0)\n",
    "\n",
    "forest.fit(x_train,y_train)\n",
    "y_pred=forest.predict(x_test)\n",
    "\n",
    "#number of misclassified of samples\n",
    "print(\"Samples are: \"%(y_test!=y_pred).sum())\n",
    "\n",
    "#Accuracy Score\n",
    "from sklearn.metrics import accuracy_score\n",
    "print('Accuracy :',accuracy_score(y_test,y_pred)*100)"
   ]
  },
  {
   "cell_type": "code",
   "execution_count": null,
   "metadata": {},
   "outputs": [],
   "source": [
    "from sklearn import tree\n",
    "clf=tree.DecisionTreeClassifier(max_depth=None, min_samples_split=2, min_samples_leaf=5, min_weight_fraction_leaf=0.0)\n",
    "clf=clf.fit(x_train, y_train)\n",
    "y_pred=clf.predict(x_test)\n",
    "print(\"Misclassified samples :\" %(y_test!=y_pred).sum())\n",
    "\n",
    "from sklearn.metrics import accuracy_score\n",
    "print('Accuaracy :',accuracy_score(y_test,y_pred)*100)"
   ]
  },
  {
   "cell_type": "code",
   "execution_count": null,
   "metadata": {},
   "outputs": [],
   "source": [
    "from sklearn.svm import SVC\n",
    "svm=SVC(kernel='linear',C=1,random_state=0,degree=3,tol=0.001)\n",
    "svm.fit(x_train,y_train)\n",
    "y_pred=svm.predict(x_test)\n",
    "print(\"samples are:\" %(y_test!=y_pred).sum())  #compute\n",
    "\n",
    "from sklearn.metrics import accuracy_score\n",
    "print(\"the accuracy of the model is :\",accuracy_score(y_test,y_pred)*100)"
   ]
  },
  {
   "cell_type": "code",
   "execution_count": null,
   "metadata": {},
   "outputs": [],
   "source": [
    "from sklearn.neighbors import KNeighborsClassifier\n",
    "knn=KNeighborsClassifier(n_neighbors=5)\n",
    "knn.fit(x_train,y_train)\n",
    "y_pred=knn.predict(x_test)\n",
    "print(\"samples are:\" %(y_test!=y_pred).sum())  #compute\n",
    "\n",
    "from sklearn.metrics import accuracy_score\n",
    "print(\"the accuracy of the model is :\",accuracy_score(y_test,y_pred)*100)"
   ]
  },
  {
   "cell_type": "code",
   "execution_count": null,
   "metadata": {},
   "outputs": [],
   "source": []
  }
 ],
 "metadata": {
  "kernelspec": {
   "display_name": "Python 3",
   "language": "python",
   "name": "python3"
  },
  "language_info": {
   "codemirror_mode": {
    "name": "ipython",
    "version": 3
   },
   "file_extension": ".py",
   "mimetype": "text/x-python",
   "name": "python",
   "nbconvert_exporter": "python",
   "pygments_lexer": "ipython3",
   "version": "3.7.4"
  }
 },
 "nbformat": 4,
 "nbformat_minor": 2
}
