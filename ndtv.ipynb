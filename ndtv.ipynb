{
 "cells": [
  {
   "cell_type": "code",
   "execution_count": 1,
   "metadata": {},
   "outputs": [
    {
     "name": "stdout",
     "output_type": "stream",
     "text": [
      "the head of the data is :     1         2         3          4          5         6         7         8  \\\n",
      "0  29  3.821209  1.567568  13.547628   7.242389  0.019883  0.012195  0.067241   \n",
      "1  25  3.052969  1.641484  22.334589  15.734018  0.023027  0.010731  0.077000   \n",
      "2  82  1.601274  1.508805   5.860583   3.301121  0.025948  0.006956  0.082317   \n",
      "3  25  4.819368  2.879584  41.382828  24.448074  0.014387  0.007596  0.069875   \n",
      "4  29  2.768753  1.797319  13.338054   9.980667  0.011506  0.007269  0.100647   \n",
      "\n",
      "          9           10  ...  882  924       959  1002  1016  1048  1112  \\\n",
      "0  0.049107  3406.866211  ...  NaN  NaN       NaN   NaN   NaN   NaN   NaN   \n",
      "1  0.045884  3324.158203  ...  NaN  NaN       NaN   NaN   NaN   NaN   NaN   \n",
      "2  0.044845  3771.984131  ...  NaN  NaN       NaN   NaN   NaN   NaN   NaN   \n",
      "3  0.046916  3301.686035  ...  NaN  NaN       NaN   NaN   NaN   NaN   NaN   \n",
      "4  0.067401  3266.021484  ...  NaN  NaN  0.041667   NaN   NaN   NaN   NaN   \n",
      "\n",
      "       4124      4125  Label  \n",
      "0  0.524255  0.866498      1  \n",
      "1  0.072369  0.534711      1  \n",
      "2  0.552685  0.918764      1  \n",
      "3  0.117911  0.223210      1  \n",
      "4  0.529581  0.968130      1  \n",
      "\n",
      "[5 rows x 205 columns]\n",
      "the shape of the data is :  (17051, 205)\n"
     ]
    }
   ],
   "source": [
    "import numpy as np \n",
    "import pandas as pd \n",
    "from pandas import DataFrame,Series\n",
    "import matplotlib.pyplot as plt \n",
    "\n",
    "\n",
    "ndtv=pd.read_csv(\"NDTV.csv\")\n",
    "print(\"the head of the data is :\",ndtv.head())\n",
    "print(\"the shape of the data is : \",ndtv.shape)"
   ]
  },
  {
   "cell_type": "code",
   "execution_count": 2,
   "metadata": {},
   "outputs": [
    {
     "name": "stdout",
     "output_type": "stream",
     "text": [
      "22          7\n",
      "23         16\n",
      "24         20\n",
      "25         37\n",
      "26         90\n",
      "        ...  \n",
      "959      9519\n",
      "1002     9307\n",
      "1016    11149\n",
      "1048     9542\n",
      "1112    15317\n",
      "Length: 176, dtype: int64\n",
      "the percentage of the null data in each colum are:           0          1\n",
      "22      22   0.041053\n",
      "23      23   0.093836\n",
      "24      24   0.117295\n",
      "25      25   0.216996\n",
      "26      26   0.527828\n",
      "...    ...        ...\n",
      "959    959  55.826638\n",
      "1002  1002  54.583309\n",
      "1016  1016  65.386194\n",
      "1048  1048  55.961527\n",
      "1112  1112  89.830508\n",
      "\n",
      "[176 rows x 2 columns]\n"
     ]
    }
   ],
   "source": [
    "#finding Null Columns in the data sets\n",
    "\n",
    "\n",
    "null_columns=ndtv.columns[ndtv.isnull().any()]\n",
    "print(ndtv[null_columns].isnull().sum())\n",
    "\n",
    "null_columns_percentage=pd.DataFrame({'0': null_columns,'1':ndtv[null_columns].isnull().sum()/len(ndtv[null_columns])*100})\n",
    "print(\"the percentage of the null data in each colum are: \",null_columns_percentage)"
   ]
  },
  {
   "cell_type": "code",
   "execution_count": 3,
   "metadata": {},
   "outputs": [
    {
     "name": "stdout",
     "output_type": "stream",
     "text": [
      "(17051, 205)\n"
     ]
    }
   ],
   "source": [
    "print(ndtv.shape)"
   ]
  },
  {
   "cell_type": "code",
   "execution_count": 4,
   "metadata": {},
   "outputs": [
    {
     "name": "stdout",
     "output_type": "stream",
     "text": [
      "Shape after dropping rows are:  (16993, 205)\n"
     ]
    }
   ],
   "source": [
    "#dropping the row which have more than 10 Columns \n",
    "\n",
    "\n",
    "ndtv.dropna(thresh=64,inplace=True, axis=0)\n",
    "print(\"Shape after dropping rows are: \",ndtv.shape)"
   ]
  },
  {
   "cell_type": "code",
   "execution_count": 5,
   "metadata": {},
   "outputs": [
    {
     "name": "stdout",
     "output_type": "stream",
     "text": [
      "(16993, 205)\n"
     ]
    }
   ],
   "source": [
    "print(ndtv.shape)"
   ]
  },
  {
   "cell_type": "code",
   "execution_count": 6,
   "metadata": {},
   "outputs": [
    {
     "name": "stdout",
     "output_type": "stream",
     "text": [
      "any null value in X True\n",
      "All value in x without null False\n"
     ]
    }
   ],
   "source": [
    "#here X=+1/-1 any y=short length,audio words\n",
    "y=ndtv['Label']\n",
    "x=ndtv.iloc[:,1:73]\n",
    "print(\"any null value in X\",np.any(np.isnan(x)))\n",
    "print(\"All value in x without null\",np.all(np.isfinite(x)))"
   ]
  },
  {
   "cell_type": "code",
   "execution_count": 7,
   "metadata": {},
   "outputs": [
    {
     "name": "stdout",
     "output_type": "stream",
     "text": [
      "any null value in X False\n",
      "All value in x without null True\n"
     ]
    }
   ],
   "source": [
    "#filling Null value with columns mean value\n",
    "x=x.fillna(x.mean())\n",
    "print(\"any null value in X\",np.any(np.isnan(x)))\n",
    "print(\"All value in x without null\",np.all(np.isfinite(x)))"
   ]
  },
  {
   "cell_type": "code",
   "execution_count": 8,
   "metadata": {},
   "outputs": [],
   "source": [
    "#data splitting into tranning and test data sets\n",
    "\n",
    "#from sklearn.cross_validation import train_test_split\n",
    "from sklearn.model_selection import train_test_split\n",
    "x_train,x_test,y_train,y_test=train_test_split(x,y,test_size=0.3,random_state=0)"
   ]
  },
  {
   "cell_type": "code",
   "execution_count": 9,
   "metadata": {},
   "outputs": [
    {
     "name": "stdout",
     "output_type": "stream",
     "text": [
      "Samples are: \n",
      "Accuracy : 90.36877206747744\n"
     ]
    }
   ],
   "source": [
    "from sklearn.ensemble import RandomForestClassifier\n",
    "forest=RandomForestClassifier(criterion='entropy',n_estimators=30,random_state=0)\n",
    "\n",
    "forest.fit(x_train,y_train)\n",
    "y_pred=forest.predict(x_test)\n",
    "\n",
    "#number of misclassified of samples\n",
    "print(\"Samples are: \"%(y_test!=y_pred).sum())\n",
    "\n",
    "#Accuracy Score\n",
    "from sklearn.metrics import accuracy_score\n",
    "print('Accuracy :',accuracy_score(y_test,y_pred)*100)\n"
   ]
  },
  {
   "cell_type": "code",
   "execution_count": 10,
   "metadata": {},
   "outputs": [
    {
     "name": "stdout",
     "output_type": "stream",
     "text": [
      "Misclassified samples :\n",
      "Accuaracy : 84.58218909376227\n"
     ]
    }
   ],
   "source": [
    "from sklearn import tree\n",
    "clf=tree.DecisionTreeClassifier(max_depth=None, min_samples_split=2, min_samples_leaf=5, min_weight_fraction_leaf=0.0)\n",
    "clf=clf.fit(x_train, y_train)\n",
    "y_pred=clf.predict(x_test)\n",
    "print(\"Misclassified samples :\" %(y_test!=y_pred).sum())\n",
    "\n",
    "from sklearn.metrics import accuracy_score\n",
    "print('Accuaracy :',accuracy_score(y_test,y_pred)*100)"
   ]
  },
  {
   "cell_type": "code",
   "execution_count": 11,
   "metadata": {},
   "outputs": [
    {
     "name": "stdout",
     "output_type": "stream",
     "text": [
      "samples are:\n",
      "the accuracy of the model is : 85.033346410357\n"
     ]
    }
   ],
   "source": [
    "#tranning and test data using SVM\n",
    "from sklearn.svm import SVC\n",
    "svm=SVC(kernel='linear',C=1,random_state=0,degree=3,tol=0.001)\n",
    "svm.fit(x_train,y_train)\n",
    "y_pred=svm.predict(x_test)\n",
    "print(\"samples are:\" %(y_test!=y_pred).sum())  #compute\n",
    "\n",
    "from sklearn.metrics import accuracy_score\n",
    "print(\"the accuracy of the model is :\",accuracy_score(y_test,y_pred)*100)"
   ]
  },
  {
   "cell_type": "code",
   "execution_count": 12,
   "metadata": {},
   "outputs": [
    {
     "name": "stdout",
     "output_type": "stream",
     "text": [
      "samples are:\n",
      "the accuracy of the model is : 82.85602196939976\n"
     ]
    }
   ],
   "source": [
    "from sklearn.neighbors import KNeighborsClassifier\n",
    "knn=KNeighborsClassifier(n_neighbors=5)\n",
    "knn.fit(x_train,y_train)\n",
    "y_pred=knn.predict(x_test)\n",
    "print(\"samples are:\" %(y_test!=y_pred).sum())  #compute\n",
    "\n",
    "from sklearn.metrics import accuracy_score\n",
    "print(\"the accuracy of the model is :\",accuracy_score(y_test,y_pred)*100)"
   ]
  },
  {
   "cell_type": "code",
   "execution_count": null,
   "metadata": {},
   "outputs": [],
   "source": []
  },
  {
   "cell_type": "code",
   "execution_count": null,
   "metadata": {},
   "outputs": [],
   "source": []
  }
 ],
 "metadata": {
  "kernelspec": {
   "display_name": "Python 3",
   "language": "python",
   "name": "python3"
  },
  "language_info": {
   "codemirror_mode": {
    "name": "ipython",
    "version": 3
   },
   "file_extension": ".py",
   "mimetype": "text/x-python",
   "name": "python",
   "nbconvert_exporter": "python",
   "pygments_lexer": "ipython3",
   "version": "3.7.4"
  }
 },
 "nbformat": 4,
 "nbformat_minor": 2
}
